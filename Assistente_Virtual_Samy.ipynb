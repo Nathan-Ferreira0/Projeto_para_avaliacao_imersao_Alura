{
  "nbformat": 4,
  "nbformat_minor": 0,
  "metadata": {
    "colab": {
      "provenance": [],
      "authorship_tag": "ABX9TyPsX7U67B1wZDPxe9rt9TJ3",
      "include_colab_link": true
    },
    "kernelspec": {
      "name": "python3",
      "display_name": "Python 3"
    },
    "language_info": {
      "name": "python"
    }
  },
  "cells": [
    {
      "cell_type": "markdown",
      "metadata": {
        "id": "view-in-github",
        "colab_type": "text"
      },
      "source": [
        "<a href=\"https://colab.research.google.com/github/Nathan-Ferreira0/Projeto_para_avaliacao_imersao_Alura/blob/main/Assistente_Virtual_Samy.ipynb\" target=\"_parent\"><img src=\"https://colab.research.google.com/assets/colab-badge.svg\" alt=\"Open In Colab\"/></a>"
      ]
    },
    {
      "cell_type": "code",
      "source": [
        "!pip install -q -U google-generativeai"
      ],
      "metadata": {
        "id": "DDrSRaaNGcVH"
      },
      "execution_count": 8,
      "outputs": []
    },
    {
      "cell_type": "code",
      "source": [
        "!pip install datetime"
      ],
      "metadata": {
        "colab": {
          "base_uri": "https://localhost:8080/"
        },
        "id": "HfhyuaS4HXUv",
        "outputId": "646c7831-2548-4de0-a5a5-55d49eeeea07"
      },
      "execution_count": 3,
      "outputs": [
        {
          "output_type": "stream",
          "name": "stdout",
          "text": [
            "Collecting datetime\n",
            "  Downloading DateTime-5.5-py3-none-any.whl (52 kB)\n",
            "\u001b[2K     \u001b[90m━━━━━━━━━━━━━━━━━━━━━━━━━━━━━━━━━━━━━━━━\u001b[0m \u001b[32m52.6/52.6 kB\u001b[0m \u001b[31m2.0 MB/s\u001b[0m eta \u001b[36m0:00:00\u001b[0m\n",
            "\u001b[?25hCollecting zope.interface (from datetime)\n",
            "  Downloading zope.interface-6.3-cp310-cp310-manylinux_2_5_x86_64.manylinux1_x86_64.manylinux_2_17_x86_64.manylinux2014_x86_64.whl (247 kB)\n",
            "\u001b[2K     \u001b[90m━━━━━━━━━━━━━━━━━━━━━━━━━━━━━━━━━━━━━━━━\u001b[0m \u001b[32m247.3/247.3 kB\u001b[0m \u001b[31m5.8 MB/s\u001b[0m eta \u001b[36m0:00:00\u001b[0m\n",
            "\u001b[?25hRequirement already satisfied: pytz in /usr/local/lib/python3.10/dist-packages (from datetime) (2023.4)\n",
            "Requirement already satisfied: setuptools in /usr/local/lib/python3.10/dist-packages (from zope.interface->datetime) (67.7.2)\n",
            "Installing collected packages: zope.interface, datetime\n",
            "Successfully installed datetime-5.5 zope.interface-6.3\n"
          ]
        }
      ]
    },
    {
      "cell_type": "code",
      "source": [
        "import google.generativeai as genai\n",
        "from google.colab import userdata\n",
        "API_KEY = userdata.get('SECRET_KEY')\n",
        "\n",
        "import datetime\n",
        "\n",
        "class Samy:\n",
        "    def __init__(self):\n",
        "        self.api_key = 'API_KEY'\n",
        "        self.produtos = {}\n",
        "\n",
        "    def adicionar_produto(self, produto, quantidade, data_validade_str):\n",
        "        # Converte a string da data de validade para formato datetime\n",
        "        data_validade = datetime.datetime.strptime(data_validade_str, '%Y-%m-%d')\n",
        "\n",
        "        if produto not in self.produtos:\n",
        "            self.produtos[produto] = {'quantidade': quantidade, 'validade': data_validade}\n",
        "        else:\n",
        "            self.produtos[produto]['quantidade'] += quantidade\n",
        "\n",
        "    def verificar_vencidos(self, data_atual_str):\n",
        "        # Converte a string da data atual para formato datetime\n",
        "        data_atual = datetime.datetime.strptime(data_atual_str, '%Y-%m-%d')\n",
        "\n",
        "        vencidos = []\n",
        "        for produto, info in self.produtos.items():\n",
        "            if info['validade'] <= data_atual:\n",
        "                vencidos.append(produto)\n",
        "        return vencidos\n",
        "\n",
        "    def verificar_estoque(self, produto):\n",
        "        if produto in self.produtos:\n",
        "            return self.produtos[produto]['quantidade']\n",
        "        else:\n",
        "            return 0\n",
        "\n",
        "#Quantidade de produtos em estoque (alguns exemplos).\n",
        "samy = Samy()\n",
        "samy.adicionar_produto('Arroz', 10, '2024-06-01')\n",
        "samy.adicionar_produto('Feijão', 15, '2024-05-15')\n",
        "samy.adicionar_produto('Macarrão', 5, '2024-05-04')\n",
        "\n",
        "print(\"Produtos na prateleira:\")\n",
        "for produto, info in samy.produtos.items():\n",
        "    print(f\"{produto}: {info['quantidade']} unidades, vencimento em {info['validade'].strftime('%Y-%m-%d')}\")  # Formata a data de validade para melhor visualização\n",
        "\n",
        "print(\"\\nProdutos vencidos:\")\n",
        "produtos_vencidos = samy.verificar_vencidos('2024-05-11')\n",
        "print(produtos_vencidos)\n",
        "\n",
        "#Produtos em estoque.\n",
        "print(\"\\nQuantidade de Arroz em estoque:\")\n",
        "quantidade_arroz = samy.verificar_estoque('Arroz')\n",
        "print(quantidade_arroz)\n",
        "\n",
        "print(\"\\nQuantidade de Feijão em estoque:\")\n",
        "quantidade_feijao = samy.verificar_estoque('Feijão')\n",
        "print(quantidade_feijao)\n",
        "\n",
        "print(\"\\nQuantidade de Macarrão em estoque:\")\n",
        "quantidade_macarrao = samy.verificar_estoque('Macarrão')\n",
        "print(quantidade_macarrao)"
      ],
      "metadata": {
        "colab": {
          "base_uri": "https://localhost:8080/"
        },
        "id": "PWtx0ng4HX5q",
        "outputId": "28d43db8-8553-495e-d2f3-8eb6ec0f1b77"
      },
      "execution_count": 14,
      "outputs": [
        {
          "output_type": "stream",
          "name": "stdout",
          "text": [
            "Produtos na prateleira:\n",
            "Arroz: 10 unidades, vencimento em 2024-06-01\n",
            "Feijão: 15 unidades, vencimento em 2024-05-15\n",
            "Macarrão: 5 unidades, vencimento em 2024-05-04\n",
            "\n",
            "Produtos vencidos:\n",
            "['Macarrão']\n",
            "\n",
            "Quantidade de Arroz em estoque:\n",
            "10\n",
            "\n",
            "Quantidade de Feijão em estoque:\n",
            "15\n",
            "\n",
            "Quantidade de Macarrão em estoque:\n",
            "5\n"
          ]
        }
      ]
    },
    {
      "cell_type": "code",
      "source": [
        "#Melhorando a visualização dos produtos tanto em estoque, quanto vencidos.\n",
        "print(\"Produtos na prateleira:\")\n",
        "for produto, info in samy.produtos.items():\n",
        "    print(f\"{produto}: {info['quantidade']} unidades, vencimento em {info['validade'].strftime('%Y-%m-%d')}\")  # Formata a data de validade para melhor visualização\n",
        "\n",
        "#Qual/quais produto(s) veceram e a data de vencimento.\n",
        "print(\"\\nProdutos vencidos:\")\n",
        "produtos_vencidos = samy.verificar_vencidos('2024-05-11')\n",
        "if produtos_vencidos:\n",
        "    print(', '.join([f\"{produto} (vencimento: {info['validade'].strftime('%Y-%m-%d')})\" for produto, info in samy.produtos.items() if produto in produtos_vencidos]))\n",
        "else:\n",
        "    print(\"Nenhum produto vencido.\")"
      ],
      "metadata": {
        "colab": {
          "base_uri": "https://localhost:8080/"
        },
        "id": "KZV04lRMHdu0",
        "outputId": "02115862-4373-4a4f-d942-c70fb3f17c2c"
      },
      "execution_count": 7,
      "outputs": [
        {
          "output_type": "stream",
          "name": "stdout",
          "text": [
            "Produtos na prateleira:\n",
            "Arroz: 10 unidades, vencimento em 2024-06-01\n",
            "Feijão: 15 unidades, vencimento em 2024-05-15\n",
            "Macarrão: 5 unidades, vencimento em 2024-05-04\n",
            "\n",
            "Produtos vencidos:\n",
            "Macarrão (vencimento: 2024-05-04)\n"
          ]
        }
      ]
    }
  ]
}